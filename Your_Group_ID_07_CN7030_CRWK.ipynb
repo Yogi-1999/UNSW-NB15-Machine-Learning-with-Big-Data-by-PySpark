{
  "cells": [
    {
      "cell_type": "markdown",
      "metadata": {
        "id": "view-in-github",
        "colab_type": "text"
      },
      "source": [
        "<a href=\"https://colab.research.google.com/github/Yogi-1999/python1/blob/master/Your_Group_ID_07_CN7030_CRWK.ipynb\" target=\"_parent\"><img src=\"https://colab.research.google.com/assets/colab-badge.svg\" alt=\"Open In Colab\"/></a>"
      ]
    },
    {
      "cell_type": "markdown",
      "metadata": {
        "id": "Lx9-Fre4FMda"
      },
      "source": [
        "# **Machine Learning on Big Data (CN7030) CRWK 21-22 Term C [60 marks]**\n",
        "# **Group ID: [Your Group ID]**\n",
        "1.   Student 1: Name: Yogesh Chilupuri and ID: 2269483\n",
        "2.   Student 2: Name: Ashok Muthineni and ID: 2297566\n",
        "\n",
        "---\n",
        "#####Module leader: **Dr Amin Karami** (a.karami@uel.ac.uk)\n",
        "\n",
        "If you want to add comments on your group work, please write it here for us:\n",
        "\n",
        "The Course work is done by both group memebers with presence and research."
      ]
    },
    {
      "cell_type": "markdown",
      "metadata": {
        "id": "GdMZR-9QTwG3"
      },
      "source": [
        "\n",
        "# **Initiate and Configure Spark**\n",
        "\n",
        "---\n"
      ]
    },
    {
      "cell_type": "code",
      "execution_count": null,
      "metadata": {
        "colab": {
          "base_uri": "https://localhost:8080/"
        },
        "id": "_z0p88Xtw_3-",
        "outputId": "8c52f552-621e-4ac6-f4c3-4b17586bb624"
      },
      "outputs": [
        {
          "output_type": "stream",
          "name": "stdout",
          "text": [
            "Looking in indexes: https://pypi.org/simple, https://us-python.pkg.dev/colab-wheels/public/simple/\n",
            "Collecting pyspark\n",
            "  Downloading pyspark-3.3.0.tar.gz (281.3 MB)\n",
            "\u001b[K     |████████████████████████████████| 281.3 MB 35 kB/s \n",
            "\u001b[?25hCollecting py4j==0.10.9.5\n",
            "  Downloading py4j-0.10.9.5-py2.py3-none-any.whl (199 kB)\n",
            "\u001b[K     |████████████████████████████████| 199 kB 50.7 MB/s \n",
            "\u001b[?25hBuilding wheels for collected packages: pyspark\n",
            "  Building wheel for pyspark (setup.py) ... \u001b[?25l\u001b[?25hdone\n",
            "  Created wheel for pyspark: filename=pyspark-3.3.0-py2.py3-none-any.whl size=281764026 sha256=88c222ace4bcc44f8c8e92c63c4ada4b362958543a6671d7bf7cb11bf92db628\n",
            "  Stored in directory: /root/.cache/pip/wheels/7a/8e/1b/f73a52650d2e5f337708d9f6a1750d451a7349a867f928b885\n",
            "Successfully built pyspark\n",
            "Installing collected packages: py4j, pyspark\n",
            "Successfully installed py4j-0.10.9.5 pyspark-3.3.0\n"
          ]
        }
      ],
      "source": [
        "!pip3 install pyspark"
      ]
    },
    {
      "cell_type": "code",
      "execution_count": null,
      "metadata": {
        "id": "QqU9fWCaYExW"
      },
      "outputs": [],
      "source": [
        "from pyspark.sql import SparkSession\n",
        "from pyspark import SparkContext, SparkConf\n",
        "spark = SparkSession.builder\\\n",
        "        .master(\"local\")\\\n",
        "        .appName(\"ClusteringApp\")\\\n",
        "        .enableHiveSupport()\\\n",
        "        .config('spark.ui.port', '4050')\\\n",
        "        .getOrCreate()\n",
        "\n",
        "\n"
      ]
    },
    {
      "cell_type": "code",
      "execution_count": null,
      "metadata": {
        "colab": {
          "base_uri": "https://localhost:8080/"
        },
        "id": "_nJ0akWRYfrH",
        "outputId": "35673d1a-32da-4c8e-d2c5-df785d65b5af"
      },
      "outputs": [
        {
          "output_type": "stream",
          "name": "stdout",
          "text": [
            "Mounted at /content/drive\n"
          ]
        }
      ],
      "source": [
        "from google.colab import drive\n",
        "drive.mount('/content/drive')"
      ]
    },
    {
      "cell_type": "markdown",
      "metadata": {
        "id": "6P2CZVl6TOQX"
      },
      "source": [
        "\n",
        "# **Load Data**\n",
        "\n",
        "---\n"
      ]
    },
    {
      "cell_type": "code",
      "execution_count": null,
      "metadata": {
        "colab": {
          "base_uri": "https://localhost:8080/"
        },
        "id": "hc5GMMvdh5jD",
        "outputId": "3cdc6813-f6ca-4e9a-c200-2cdb246bdf73"
      },
      "outputs": [
        {
          "output_type": "stream",
          "name": "stdout",
          "text": [
            "+---------------+------------------+----------------+\n",
            "|Attack category|Attack subcategory|Number of events|\n",
            "+---------------+------------------+----------------+\n",
            "|         normal|              null|         2218761|\n",
            "|       Fuzzers |               FTP|             558|\n",
            "|       Fuzzers |              HTTP|            1497|\n",
            "|       Fuzzers |               RIP|            3550|\n",
            "|       Fuzzers |               SMB|            5245|\n",
            "|       Fuzzers |            Syslog|            1851|\n",
            "+---------------+------------------+----------------+\n",
            "only showing top 6 rows\n",
            "\n"
          ]
        }
      ],
      "source": [
        "data=spark.read.csv('/content/drive/MyDrive/Colab Notebooks/UNSW-NB15_LIST_EVENTS.csv', inferSchema=True, header=True)\n",
        "data.show(6)"
      ]
    },
    {
      "cell_type": "code",
      "execution_count": null,
      "metadata": {
        "colab": {
          "base_uri": "https://localhost:8080/"
        },
        "id": "lkE2q45sYqv2",
        "outputId": "3fa0b8fc-af5b-452b-db26-7611a11b31ce"
      },
      "outputs": [
        {
          "output_type": "stream",
          "name": "stdout",
          "text": [
            "+---+-------+-------+--------------------+\n",
            "|No.|   Name|  Type |         Description|\n",
            "+---+-------+-------+--------------------+\n",
            "|  1|  srcip|nominal|   Source IP address|\n",
            "|  2|  sport|integer|  Source port number|\n",
            "|  3|  dstip|nominal|Destination IP ad...|\n",
            "|  4| dsport|integer|Destination port ...|\n",
            "|  5|  proto|nominal|Transaction protocol|\n",
            "|  6|  state|nominal|Indicates to the ...|\n",
            "|  7|    dur|  Float|Record total dura...|\n",
            "|  8| sbytes|Integer|Source to destina...|\n",
            "|  9| dbytes|Integer|Destination to so...|\n",
            "| 10|   sttl|Integer|Source to destina...|\n",
            "| 11|   dttl|Integer|Destination to so...|\n",
            "| 12|  sloss|Integer|Source packets re...|\n",
            "| 13|  dloss|Integer|Destination packe...|\n",
            "| 14|service|nominal|http, ftp, smtp, ...|\n",
            "| 15|  Sload|  Float|Source bits per s...|\n",
            "| 16|  Dload|  Float|Destination bits ...|\n",
            "| 17|  Spkts|integer|Source to destina...|\n",
            "| 18|  Dpkts|integer|Destination to so...|\n",
            "| 19|   swin|integer|Source TCP window...|\n",
            "| 20|   dwin|integer|Destination TCP w...|\n",
            "+---+-------+-------+--------------------+\n",
            "only showing top 20 rows\n",
            "\n"
          ]
        }
      ],
      "source": [
        "details=spark.read.csv('/content/drive/MyDrive/Colab Notebooks/UNSW-NB15_features.csv', inferSchema=True, header=True)\n",
        "details.show()\n"
      ]
    },
    {
      "cell_type": "code",
      "execution_count": null,
      "metadata": {
        "id": "fvx8jqbmYuUl"
      },
      "outputs": [],
      "source": [
        "df=spark.read.csv('drive/My Drive/Colab Notebooks/UNSW-NB15.csv', inferSchema=True, header=True)\\\n",
        ".toDF(\"srcip\", \"sport\", \"dstip\", \"dsport\", \"proto\", \"state\", \"dur\", \"sbytes\", \"dbytes\", \"sttl\", \"dttl\", \"sloss\", \"dloss\", \"service\", \"Sload\", \"Dload\", \"Spkts\", \"Dpkts\", \"swin\", \"dwin\", \"stcpb\", \"dtcpb\", \"smeansz\", \"dmeansz\", \"trans_depth\", \"res_bdy_len\", \"Sjit\", \"Djit\", \"Stime\", \"Ltime\", \"Sintpkt\", \"Dintpkt\", \"tcprtt\", \"synack\", \"ackdat\", \"is_sm_ips_ports\", \"ct_state_ttl\", \"ct_flw_http_mthd\", \"is_ftp_login\", \"ct_ftp_cmd\", \"ct_srv_src\", \"ct_srv_dst\", \"ct_dst_ltm\", \"ct_src_ ltm\", \"ct_src_dport_ltm\", \"ct_dst_sport_ltm\", \"ct_dst_src_ltm\", \"attack_cat\", \"Label\")\n"
      ]
    },
    {
      "cell_type": "code",
      "execution_count": null,
      "metadata": {
        "colab": {
          "base_uri": "https://localhost:8080/"
        },
        "id": "xay9ZuryaNso",
        "outputId": "0826e530-5487-4f76-a442-7ace70c1a338"
      },
      "outputs": [
        {
          "output_type": "stream",
          "name": "stdout",
          "text": [
            "+----------+-----+-------------+------+-----+-----+-----------+------+------+----+----+-----+-----+-------+---------+---------+-----+-----+----+----+----------+----------+-------+-------+-----------+-----------+---------+---------+----------+----------+---------+----------+------------+------------+------------+---------------+------------+----------------+------------+----------+----------+----------+----------+-----------+----------------+----------------+--------------+----------+-----+\n",
            "|     srcip|sport|        dstip|dsport|proto|state|        dur|sbytes|dbytes|sttl|dttl|sloss|dloss|service|    Sload|    Dload|Spkts|Dpkts|swin|dwin|     stcpb|     dtcpb|smeansz|dmeansz|trans_depth|res_bdy_len|     Sjit|     Djit|     Stime|     Ltime|  Sintpkt|   Dintpkt|      tcprtt|      synack|      ackdat|is_sm_ips_ports|ct_state_ttl|ct_flw_http_mthd|is_ftp_login|ct_ftp_cmd|ct_srv_src|ct_srv_dst|ct_dst_ltm|ct_src_ ltm|ct_src_dport_ltm|ct_dst_sport_ltm|ct_dst_src_ltm|attack_cat|Label|\n",
            "+----------+-----+-------------+------+-----+-----+-----------+------+------+----+----+-----+-----+-------+---------+---------+-----+-----+----+----+----------+----------+-------+-------+-----------+-----------+---------+---------+----------+----------+---------+----------+------------+------------+------------+---------------+------------+----------------+------------+----------+----------+----------+----------+-----------+----------------+----------------+--------------+----------+-----+\n",
            "|59.166.0.0|43467|149.171.126.6| 49729|  tcp|  FIN|   0.101815|  4238| 65628|  31|  29|    7|   30|      -|328438.84|5087030.5|   72|   74| 255| 255| 961515433|3225510659|     59|    887|          0|          0|      0.0|91.579567|1421970775|1421970775| 1.429493|  1.387192|      6.8E-4|5.4600002E-4|     1.34E-4|              0|           0|               0|           0|         0|         7|         4|         1|          6|               1|               1|             1|      null|    0|\n",
            "|59.166.0.5|41289|149.171.126.2|  9574|  tcp|  FIN|0.044002999|  2750| 29104|  31|  29|    7|   17|      -|488693.97|5181101.5|   44|   48| 255| 255|3291096757|1191410228|     63|    606|          0|          0|78.126968|62.206562|1421970775|1421970775| 1.014977|0.92583001|     0.00125|     4.85E-4|     7.65E-4|              0|           0|               0|           0|         0|         3|         5|         3|          3|               1|               1|             1|      null|    0|\n",
            "|59.166.0.9|43785|149.171.126.0|  6881|  tcp|  FIN|  2.7908299| 10476|395734|  31|  29|   16|  143|      -|29863.518|1130840.8|  180|  320| 255| 255|3934392726|3961690324|     58|   1237|          0|          0|2707.4927| 2018.976|1421970772|1421970775|15.589459| 8.7470121|6.8400003E-4|5.3199998E-4|1.5199999E-4|              0|           0|               0|           0|         0|        11|         4|         3|          2|               1|               1|             1|      null|    0|\n",
            "|59.166.0.8|40691|149.171.126.9|  6881|  tcp|  FIN|  2.6335001| 13350|548216|  31|  29|   21|  197|      -|40381.238|1661560.6|  232|  438| 255| 255|   1518931|  18267719|     58|   1252|          0|          0|718.33679|500.57288|1421970773|1421970775|11.399026| 6.0251832|     6.19E-4|     4.89E-4|      1.3E-4|              0|           0|               0|           0|         0|        16|         7|         7|          1|               1|               1|             1|      null|    0|\n",
            "|59.166.0.3|20393|149.171.126.3|  5190|  tcp|  FIN|   0.115048|  1958|  2308|  31|  29|    6|    6|      -|129963.15|153814.06|   22|   24| 255| 255|3646899201|3651364285|     89|     96|          0|          0|435.26627|417.08563|1421970775|1421970775| 5.460381|  4.976913|7.0999999E-4|     5.73E-4|     1.37E-4|              0|           0|               0|           0|         0|         2|         6|         1|          4|               1|               1|             1|      null|    0|\n",
            "+----------+-----+-------------+------+-----+-----+-----------+------+------+----+----+-----+-----+-------+---------+---------+-----+-----+----+----+----------+----------+-------+-------+-----------+-----------+---------+---------+----------+----------+---------+----------+------------+------------+------------+---------------+------------+----------------+------------+----------+----------+----------+----------+-----------+----------------+----------------+--------------+----------+-----+\n",
            "only showing top 5 rows\n",
            "\n",
            "root\n",
            " |-- srcip: string (nullable = true)\n",
            " |-- sport: integer (nullable = true)\n",
            " |-- dstip: string (nullable = true)\n",
            " |-- dsport: integer (nullable = true)\n",
            " |-- proto: string (nullable = true)\n",
            " |-- state: string (nullable = true)\n",
            " |-- dur: double (nullable = true)\n",
            " |-- sbytes: integer (nullable = true)\n",
            " |-- dbytes: integer (nullable = true)\n",
            " |-- sttl: integer (nullable = true)\n",
            " |-- dttl: integer (nullable = true)\n",
            " |-- sloss: integer (nullable = true)\n",
            " |-- dloss: integer (nullable = true)\n",
            " |-- service: string (nullable = true)\n",
            " |-- Sload: double (nullable = true)\n",
            " |-- Dload: double (nullable = true)\n",
            " |-- Spkts: integer (nullable = true)\n",
            " |-- Dpkts: integer (nullable = true)\n",
            " |-- swin: integer (nullable = true)\n",
            " |-- dwin: integer (nullable = true)\n",
            " |-- stcpb: long (nullable = true)\n",
            " |-- dtcpb: long (nullable = true)\n",
            " |-- smeansz: integer (nullable = true)\n",
            " |-- dmeansz: integer (nullable = true)\n",
            " |-- trans_depth: integer (nullable = true)\n",
            " |-- res_bdy_len: integer (nullable = true)\n",
            " |-- Sjit: double (nullable = true)\n",
            " |-- Djit: double (nullable = true)\n",
            " |-- Stime: integer (nullable = true)\n",
            " |-- Ltime: integer (nullable = true)\n",
            " |-- Sintpkt: double (nullable = true)\n",
            " |-- Dintpkt: double (nullable = true)\n",
            " |-- tcprtt: double (nullable = true)\n",
            " |-- synack: double (nullable = true)\n",
            " |-- ackdat: double (nullable = true)\n",
            " |-- is_sm_ips_ports: integer (nullable = true)\n",
            " |-- ct_state_ttl: integer (nullable = true)\n",
            " |-- ct_flw_http_mthd: integer (nullable = true)\n",
            " |-- is_ftp_login: integer (nullable = true)\n",
            " |-- ct_ftp_cmd: integer (nullable = true)\n",
            " |-- ct_srv_src: integer (nullable = true)\n",
            " |-- ct_srv_dst: integer (nullable = true)\n",
            " |-- ct_dst_ltm: integer (nullable = true)\n",
            " |-- ct_src_ ltm: integer (nullable = true)\n",
            " |-- ct_src_dport_ltm: integer (nullable = true)\n",
            " |-- ct_dst_sport_ltm: integer (nullable = true)\n",
            " |-- ct_dst_src_ltm: integer (nullable = true)\n",
            " |-- attack_cat: string (nullable = true)\n",
            " |-- Label: integer (nullable = true)\n",
            "\n"
          ]
        },
        {
          "output_type": "execute_result",
          "data": {
            "text/plain": [
              "['srcip',\n",
              " 'sport',\n",
              " 'dstip',\n",
              " 'dsport',\n",
              " 'proto',\n",
              " 'state',\n",
              " 'dur',\n",
              " 'sbytes',\n",
              " 'dbytes',\n",
              " 'sttl',\n",
              " 'dttl',\n",
              " 'sloss',\n",
              " 'dloss',\n",
              " 'service',\n",
              " 'Sload',\n",
              " 'Dload',\n",
              " 'Spkts',\n",
              " 'Dpkts',\n",
              " 'swin',\n",
              " 'dwin',\n",
              " 'stcpb',\n",
              " 'dtcpb',\n",
              " 'smeansz',\n",
              " 'dmeansz',\n",
              " 'trans_depth',\n",
              " 'res_bdy_len',\n",
              " 'Sjit',\n",
              " 'Djit',\n",
              " 'Stime',\n",
              " 'Ltime',\n",
              " 'Sintpkt',\n",
              " 'Dintpkt',\n",
              " 'tcprtt',\n",
              " 'synack',\n",
              " 'ackdat',\n",
              " 'is_sm_ips_ports',\n",
              " 'ct_state_ttl',\n",
              " 'ct_flw_http_mthd',\n",
              " 'is_ftp_login',\n",
              " 'ct_ftp_cmd',\n",
              " 'ct_srv_src',\n",
              " 'ct_srv_dst',\n",
              " 'ct_dst_ltm',\n",
              " 'ct_src_ ltm',\n",
              " 'ct_src_dport_ltm',\n",
              " 'ct_dst_sport_ltm',\n",
              " 'ct_dst_src_ltm',\n",
              " 'attack_cat',\n",
              " 'Label']"
            ]
          },
          "metadata": {},
          "execution_count": 7
        }
      ],
      "source": [
        "df.show(5)\n",
        "df.printSchema()\n",
        "df.count()\n",
        "df.columns"
      ]
    },
    {
      "cell_type": "code",
      "execution_count": null,
      "metadata": {
        "colab": {
          "base_uri": "https://localhost:8080/"
        },
        "id": "0rx2rvHFac2G",
        "outputId": "19c33665-e4a3-47b2-da78-6646b09303a0"
      },
      "outputs": [
        {
          "output_type": "stream",
          "name": "stdout",
          "text": [
            "root\n",
            " |-- srcip: string (nullable = true)\n",
            " |-- sport: integer (nullable = true)\n",
            " |-- dstip: string (nullable = true)\n",
            " |-- dsport: integer (nullable = true)\n",
            " |-- proto: string (nullable = true)\n",
            " |-- state: string (nullable = true)\n",
            " |-- dur: double (nullable = true)\n",
            " |-- sbytes: integer (nullable = true)\n",
            " |-- dbytes: integer (nullable = true)\n",
            " |-- sttl: integer (nullable = true)\n",
            " |-- dttl: integer (nullable = true)\n",
            " |-- sloss: integer (nullable = true)\n",
            " |-- dloss: integer (nullable = true)\n",
            " |-- service: string (nullable = true)\n",
            " |-- Sload: double (nullable = true)\n",
            " |-- Dload: double (nullable = true)\n",
            " |-- Spkts: integer (nullable = true)\n",
            " |-- Dpkts: integer (nullable = true)\n",
            " |-- swin: integer (nullable = true)\n",
            " |-- dwin: integer (nullable = true)\n",
            " |-- stcpb: long (nullable = true)\n",
            " |-- dtcpb: long (nullable = true)\n",
            " |-- smeansz: integer (nullable = true)\n",
            " |-- dmeansz: integer (nullable = true)\n",
            " |-- trans_depth: integer (nullable = true)\n",
            " |-- res_bdy_len: integer (nullable = true)\n",
            " |-- Sjit: double (nullable = true)\n",
            " |-- Djit: double (nullable = true)\n",
            " |-- Stime: integer (nullable = true)\n",
            " |-- Ltime: integer (nullable = true)\n",
            " |-- Sintpkt: double (nullable = true)\n",
            " |-- Dintpkt: double (nullable = true)\n",
            " |-- tcprtt: double (nullable = true)\n",
            " |-- synack: double (nullable = true)\n",
            " |-- ackdat: double (nullable = true)\n",
            " |-- is_sm_ips_ports: integer (nullable = true)\n",
            " |-- ct_state_ttl: integer (nullable = true)\n",
            " |-- ct_flw_http_mthd: integer (nullable = true)\n",
            " |-- is_ftp_login: integer (nullable = true)\n",
            " |-- ct_ftp_cmd: integer (nullable = true)\n",
            " |-- ct_srv_src: integer (nullable = true)\n",
            " |-- ct_srv_dst: integer (nullable = true)\n",
            " |-- ct_dst_ltm: integer (nullable = true)\n",
            " |-- ct_src_ ltm: integer (nullable = true)\n",
            " |-- ct_src_dport_ltm: integer (nullable = true)\n",
            " |-- ct_dst_sport_ltm: integer (nullable = true)\n",
            " |-- ct_dst_src_ltm: integer (nullable = true)\n",
            " |-- attack_cat: string (nullable = true)\n",
            " |-- Label: integer (nullable = true)\n",
            " |-- features: vector (nullable = true)\n",
            "\n",
            "+----------+-----+-------------+------+-----+-----+------------+------+------+----+----+-----+-----+--------+---------+---------+-----+-----+----+----+----------+----------+-------+-------+-----------+-----------+----------+---------+----------+----------+------------+------------+------------+------------+------------+---------------+------------+----------------+------------+----------+----------+----------+----------+-----------+----------------+----------------+--------------+----------+-----+--------------------+\n",
            "|     srcip|sport|        dstip|dsport|proto|state|         dur|sbytes|dbytes|sttl|dttl|sloss|dloss| service|    Sload|    Dload|Spkts|Dpkts|swin|dwin|     stcpb|     dtcpb|smeansz|dmeansz|trans_depth|res_bdy_len|      Sjit|     Djit|     Stime|     Ltime|     Sintpkt|     Dintpkt|      tcprtt|      synack|      ackdat|is_sm_ips_ports|ct_state_ttl|ct_flw_http_mthd|is_ftp_login|ct_ftp_cmd|ct_srv_src|ct_srv_dst|ct_dst_ltm|ct_src_ ltm|ct_src_dport_ltm|ct_dst_sport_ltm|ct_dst_src_ltm|attack_cat|Label|            features|\n",
            "+----------+-----+-------------+------+-----+-----+------------+------+------+----+----+-----+-----+--------+---------+---------+-----+-----+----+----+----------+----------+-------+-------+-----------+-----------+----------+---------+----------+----------+------------+------------+------------+------------+------------+---------------+------------+----------------+------------+----------+----------+----------+----------+-----------+----------------+----------------+--------------+----------+-----+--------------------+\n",
            "|59.166.0.0|43467|149.171.126.6| 49729|  tcp|  FIN|    0.101815|  4238| 65628|  31|  29|    7|   30|       -|328438.84|5087030.5|   72|   74| 255| 255| 961515433|3225510659|     59|    887|          0|          0|       0.0|91.579567|1421970775|1421970775|    1.429493|    1.387192|      6.8E-4|5.4600002E-4|     1.34E-4|              0|           0|               0|           0|         0|         7|         4|         1|          6|               1|               1|             1|      null|    0|[43467.0,49729.0,...|\n",
            "|59.166.0.5|41289|149.171.126.2|  9574|  tcp|  FIN| 0.044002999|  2750| 29104|  31|  29|    7|   17|       -|488693.97|5181101.5|   44|   48| 255| 255|3291096757|1191410228|     63|    606|          0|          0| 78.126968|62.206562|1421970775|1421970775|    1.014977|  0.92583001|     0.00125|     4.85E-4|     7.65E-4|              0|           0|               0|           0|         0|         3|         5|         3|          3|               1|               1|             1|      null|    0|[41289.0,9574.0,0...|\n",
            "|59.166.0.9|43785|149.171.126.0|  6881|  tcp|  FIN|   2.7908299| 10476|395734|  31|  29|   16|  143|       -|29863.518|1130840.8|  180|  320| 255| 255|3934392726|3961690324|     58|   1237|          0|          0| 2707.4927| 2018.976|1421970772|1421970775|   15.589459|   8.7470121|6.8400003E-4|5.3199998E-4|1.5199999E-4|              0|           0|               0|           0|         0|        11|         4|         3|          2|               1|               1|             1|      null|    0|[43785.0,6881.0,2...|\n",
            "|59.166.0.8|40691|149.171.126.9|  6881|  tcp|  FIN|   2.6335001| 13350|548216|  31|  29|   21|  197|       -|40381.238|1661560.6|  232|  438| 255| 255|   1518931|  18267719|     58|   1252|          0|          0| 718.33679|500.57288|1421970773|1421970775|   11.399026|   6.0251832|     6.19E-4|     4.89E-4|      1.3E-4|              0|           0|               0|           0|         0|        16|         7|         7|          1|               1|               1|             1|      null|    0|[40691.0,6881.0,2...|\n",
            "|59.166.0.3|20393|149.171.126.3|  5190|  tcp|  FIN|    0.115048|  1958|  2308|  31|  29|    6|    6|       -|129963.15|153814.06|   22|   24| 255| 255|3646899201|3651364285|     89|     96|          0|          0| 435.26627|417.08563|1421970775|1421970775|    5.460381|    4.976913|7.0999999E-4|     5.73E-4|     1.37E-4|              0|           0|               0|           0|         0|         2|         6|         1|          4|               1|               1|             1|      null|    0|[20393.0,5190.0,0...|\n",
            "|59.166.0.7|19792|149.171.126.0|    53|  udp|  CON|    0.003362|   146|   178|  31|  29|    0|    0|     dns|173706.13| 211778.7|    2|    2|   0|   0|         0|         0|     73|     89|          0|          0|       0.0|      0.0|1421970775|1421970775|       0.011|0.0060000001|         0.0|         0.0|         0.0|              0|           0|               0|           0|         0|         3|         2|         3|          3|               3|               1|             1|      null|    0|(43,[0,1,2,3,4,5,...|\n",
            "|59.166.0.3|14382|149.171.126.9|  3354|  tcp|  FIN|  0.45305201|   424|  8824|  31|  29|    1|    4|ftp-data| 6551.124| 142835.7|    8|   12| 255| 255|2206905053|3307670308|     53|    735|          0|          0| 3906.7949|3074.6694|1421970775|1421970775|   64.671288|   41.134998|      6.8E-4|5.5900001E-4|     1.21E-4|              0|           0|               0|           0|         0|         4|         6|         7|          4|               1|               1|             2|      null|    0|[14382.0,3354.0,0...|\n",
            "|59.166.0.9|37074|149.171.126.2|    53|  udp|  CON|    0.001088|   146|   178|  31|  29|    0|    0|     dns|536764.69|654411.75|    2|    2|   0|   0|         0|         0|     73|     89|          0|          0|       0.0|      0.0|1421970775|1421970775|       0.001|0.0089999996|         0.0|         0.0|         0.0|              0|           0|               0|           0|         0|         2|         5|         3|          2|               1|               1|             1|      null|    0|(43,[0,1,2,3,4,5,...|\n",
            "|59.166.0.7|12569|149.171.126.5|    53|  udp|  CON|9.6899999E-4|   146|   178|  31|  29|    0|    0|     dns|602683.19|734778.13|    2|    2|   0|   0|         0|         0|     73|     89|          0|          0|       0.0|      0.0|1421970775|1421970775|0.0099999998|       0.003|         0.0|         0.0|         0.0|              0|           0|               0|           0|         0|         3|         1|         2|          3|               3|               1|             1|      null|    0|(43,[0,1,2,3,4,5,...|\n",
            "|59.166.0.1|12792|149.171.126.7|    53|  udp|  CON|0.0010629999|   146|   178|  31|  29|    0|    0|     dns|549388.56| 669802.5|    2|    2|   0|   0|         0|         0|     73|     89|          0|          0|       0.0|      0.0|1421970780|1421970780|0.0020000001|       0.003|         0.0|         0.0|         0.0|              0|           0|               0|           0|         0|         5|         3|         2|          4|               3|               1|             1|      null|    0|(43,[0,1,2,3,4,5,...|\n",
            "|59.166.0.0|63414|149.171.126.9| 10330|  tcp|  FIN|  0.26501101|  8928|   320|  31|  29|    4|    1|ftp-data|250283.94|8060.0425|   14|    6| 255| 255|2386904726|3699988372|    638|     53|          0|          0| 1725.2916|71.464249|1421970775|1421970776|   20.385462|   52.644802|7.7500002E-4|6.3299999E-4|     1.42E-4|              0|           0|               0|           0|         0|         3|         6|         6|          5|               1|               1|             2|      null|    0|[63414.0,10330.0,...|\n",
            "|59.166.0.1|33555|149.171.126.3|  6881|  tcp|  FIN|  0.51712799|  1540|  1644|  31|  29|    4|    4|       -|22338.764|  24025.0|   16|   18| 255| 255|1741520309|3943579644|     96|     91|          0|          0| 2036.1301| 51.91766|1421970776|1421970776|   34.433331|   30.388353|6.5399997E-4|5.2200002E-4|     1.32E-4|              0|           0|               0|           0|         0|         4|         6|         5|          7|               4|               1|             4|      null|    0|[33555.0,6881.0,0...|\n",
            "|59.166.0.8|10867|149.171.126.8|   111|  udp|  CON|0.0053389999|   568|   312|  31|  29|    0|    0|       -|638321.81|350627.47|    4|    4|   0|   0|         0|         0|    142|     78|          0|          0| 1.7430201| 1.757632|1421970776|1421970776|        1.24|    1.252333|         0.0|         0.0|         0.0|              0|           0|               0|           0|         0|        16|         7|         5|          5|               1|               1|             4|      null|    0|(43,[0,1,2,3,4,5,...|\n",
            "|59.166.0.8|12411|149.171.126.8|  1715|  udp|  CON|    0.001739|   512|   304|  31|  29|    0|    0|       -|1766532.5|1048878.6|    4|    4|   0|   0|         0|         0|    128|     76|          0|          0|0.63026798| 0.318434|1421970776|1421970776|  0.44966701|    0.227667|         0.0|         0.0|         0.0|              0|           0|               0|           0|         0|        16|         7|         5|          5|               1|               1|             4|      null|    0|(43,[0,1,2,3,4,5,...|\n",
            "|59.166.0.8|46725|149.171.126.2|    53|  udp|  CON|    0.001018|   146|   178|  31|  29|    0|    0|     dns|573673.88|699410.63|    2|    2|   0|   0|         0|         0|     73|     89|          0|          0|       0.0|      0.0|1421970776|1421970776|       0.011|       0.011|         0.0|         0.0|         0.0|              0|           0|               0|           0|         0|         2|         5|         3|          5|               1|               1|             1|      null|    0|(43,[0,1,2,3,4,5,...|\n",
            "|59.166.0.1|51562|149.171.126.4|    53|  udp|  CON|    0.001044|   146|   178|  31|  29|    0|    0|     dns|559386.94|681992.31|    2|    2|   0|   0|         0|         0|     73|     89|          0|          0|       0.0|      0.0|1421970776|1421970776|       0.011|       0.003|         0.0|         0.0|         0.0|              0|           0|               0|           0|         0|         2|         3|         5|          7|               2|               1|             3|      null|    0|(43,[0,1,2,3,4,5,...|\n",
            "|59.166.0.3|48838|149.171.126.2|    53|  udp|  CON|9.8699995E-4|   146|   178|  31|  29|    0|    0|     dns| 591692.0|721377.94|    2|    2|   0|   0|         0|         0|     73|     89|          0|          0|       0.0|      0.0|1421970776|1421970776|0.0080000004|       0.003|         0.0|         0.0|         0.0|              0|           0|               0|           0|         0|         2|         5|         3|          3|               1|               1|             1|      null|    0|(43,[0,1,2,3,4,5,...|\n",
            "|59.166.0.0|16907|149.171.126.9|    21|  tcp|  FIN|   2.2547121|  2934|  3740|  31|  29|   11|   15|     ftp|10211.503|13025.166|   52|   54| 255| 255| 241515551|2584135680|     56|     69|          0|          0| 3141.3708| 99.93412|1421970773|1421970776|   44.203648|   42.531734|6.6100003E-4|5.2499998E-4|     1.36E-4|              0|           0|               0|           0|         0|         1|         3|         6|          5|               1|               1|             2|      null|    0|[16907.0,21.0,2.2...|\n",
            "|59.166.0.0| 1915|149.171.126.4| 32945|  tcp|  FIN| 0.051220998|  2854| 29104|  31|  29|    7|   17|       -|436071.16|4450987.0|   46|   48| 255| 255|1921515932|1974066994|     62|    606|          0|          0| 78.226654|76.387978|1421970776|1421970776|   1.1294219|   1.0781699|      8.1E-4|     5.43E-4|     2.67E-4|              0|           0|               0|           0|         0|         7|         2|         5|          5|               1|               1|             2|      null|    0|[1915.0,32945.0,0...|\n",
            "|59.166.0.4| 1309|149.171.126.8| 52139|  tcp|  FIN| 0.091375001|  4238| 65628|  31|  29|    7|   30|       -|365964.44|5668246.0|   72|   74| 255| 255|1681522413|1731423574|     59|    887|          0|          0|       0.0|77.518913|1421970776|1421970776|    1.268014|     1.24474|6.3899998E-4|     5.05E-4|     1.34E-4|              0|           0|               0|           0|         0|         2|         7|         5|          2|               1|               1|             1|      null|    0|[1309.0,52139.0,0...|\n",
            "+----------+-----+-------------+------+-----+-----+------------+------+------+----+----+-----+-----+--------+---------+---------+-----+-----+----+----+----------+----------+-------+-------+-----------+-----------+----------+---------+----------+----------+------------+------------+------------+------------+------------+---------------+------------+----------------+------------+----------+----------+----------+----------+-----------+----------------+----------------+--------------+----------+-----+--------------------+\n",
            "only showing top 20 rows\n",
            "\n"
          ]
        }
      ],
      "source": [
        "from pyspark.ml.feature import VectorAssembler\n",
        "df.columns\n",
        "assembler=VectorAssembler(inputCols=(\"sport\", \"dsport\", \"dur\", \"sbytes\", \"dbytes\", \"sttl\", \"dttl\", \"sloss\", \"dloss\", \"Sload\", \"Dload\", \"Spkts\", \"Dpkts\", \"swin\", \"dwin\", \"stcpb\", \"dtcpb\", \"smeansz\", \"dmeansz\", \"trans_depth\", \"res_bdy_len\", \"Sjit\", \"Djit\", \"Stime\", \"Ltime\", \"Sintpkt\", \"Dintpkt\", \"tcprtt\", \"synack\", \"ackdat\", \"is_sm_ips_ports\", \"ct_state_ttl\", \"ct_flw_http_mthd\", \"is_ftp_login\", \"ct_ftp_cmd\", \"ct_srv_src\", \"ct_srv_dst\", \"ct_dst_ltm\", \"ct_src_ ltm\", \"ct_src_dport_ltm\", \"ct_dst_sport_ltm\", \"ct_dst_src_ltm\", \"Label\"), outputCol=\"features\")\n",
        "assembled_data = assembler.transform(df)\n",
        "assembled_data.printSchema()\n",
        "assembled_data.show(20)"
      ]
    },
    {
      "cell_type": "code",
      "execution_count": null,
      "metadata": {
        "colab": {
          "base_uri": "https://localhost:8080/"
        },
        "id": "MXCAlZcgaxMG",
        "outputId": "961a6498-89dd-4344-9f4b-aea211264bce"
      },
      "outputs": [
        {
          "output_type": "stream",
          "name": "stdout",
          "text": [
            "+----------+-----+-------------+------+-----+-----+------------+------+------+----+----+-----+-----+--------+---------+---------+-----+-----+----+----+----------+----------+-------+-------+-----------+-----------+----------+---------+----------+----------+------------+------------+------------+------------+------------+---------------+------------+----------------+------------+----------+----------+----------+----------+-----------+----------------+----------------+--------------+----------+-----+--------------------+--------------------+\n",
            "|     srcip|sport|        dstip|dsport|proto|state|         dur|sbytes|dbytes|sttl|dttl|sloss|dloss| service|    Sload|    Dload|Spkts|Dpkts|swin|dwin|     stcpb|     dtcpb|smeansz|dmeansz|trans_depth|res_bdy_len|      Sjit|     Djit|     Stime|     Ltime|     Sintpkt|     Dintpkt|      tcprtt|      synack|      ackdat|is_sm_ips_ports|ct_state_ttl|ct_flw_http_mthd|is_ftp_login|ct_ftp_cmd|ct_srv_src|ct_srv_dst|ct_dst_ltm|ct_src_ ltm|ct_src_dport_ltm|ct_dst_sport_ltm|ct_dst_src_ltm|attack_cat|Label|            features|        Standardized|\n",
            "+----------+-----+-------------+------+-----+-----+------------+------+------+----+----+-----+-----+--------+---------+---------+-----+-----+----+----+----------+----------+-------+-------+-----------+-----------+----------+---------+----------+----------+------------+------------+------------+------------+------------+---------------+------------+----------------+------------+----------+----------+----------+----------+-----------+----------------+----------------+--------------+----------+-----+--------------------+--------------------+\n",
            "|59.166.0.0|43467|149.171.126.6| 49729|  tcp|  FIN|    0.101815|  4238| 65628|  31|  29|    7|   30|       -|328438.84|5087030.5|   72|   74| 255| 255| 961515433|3225510659|     59|    887|          0|          0|       0.0|91.579567|1421970775|1421970775|    1.429493|    1.387192|      6.8E-4|5.4600002E-4|     1.34E-4|              0|           0|               0|           0|         0|         7|         4|         1|          6|               1|               1|             1|      null|    0|[43467.0,49729.0,...|[2.12643923891384...|\n",
            "|59.166.0.5|41289|149.171.126.2|  9574|  tcp|  FIN| 0.044002999|  2750| 29104|  31|  29|    7|   17|       -|488693.97|5181101.5|   44|   48| 255| 255|3291096757|1191410228|     63|    606|          0|          0| 78.126968|62.206562|1421970775|1421970775|    1.014977|  0.92583001|     0.00125|     4.85E-4|     7.65E-4|              0|           0|               0|           0|         0|         3|         5|         3|          3|               1|               1|             1|      null|    0|[41289.0,9574.0,0...|[2.01988979537382...|\n",
            "|59.166.0.9|43785|149.171.126.0|  6881|  tcp|  FIN|   2.7908299| 10476|395734|  31|  29|   16|  143|       -|29863.518|1130840.8|  180|  320| 255| 255|3934392726|3961690324|     58|   1237|          0|          0| 2707.4927| 2018.976|1421970772|1421970775|   15.589459|   8.7470121|6.8400003E-4|5.3199998E-4|1.5199999E-4|              0|           0|               0|           0|         0|        11|         4|         3|          2|               1|               1|             1|      null|    0|[43785.0,6881.0,2...|[2.14199604471996...|\n",
            "|59.166.0.8|40691|149.171.126.9|  6881|  tcp|  FIN|   2.6335001| 13350|548216|  31|  29|   21|  197|       -|40381.238|1661560.6|  232|  438| 255| 255|   1518931|  18267719|     58|   1252|          0|          0| 718.33679|500.57288|1421970773|1421970775|   11.399026|   6.0251832|     6.19E-4|     4.89E-4|      1.3E-4|              0|           0|               0|           0|         0|        16|         7|         7|          1|               1|               1|             1|      null|    0|[40691.0,6881.0,2...|[1.99063517313464...|\n",
            "|59.166.0.3|20393|149.171.126.3|  5190|  tcp|  FIN|    0.115048|  1958|  2308|  31|  29|    6|    6|       -|129963.15|153814.06|   22|   24| 255| 255|3646899201|3651364285|     89|     96|          0|          0| 435.26627|417.08563|1421970775|1421970775|    5.460381|    4.976913|7.0999999E-4|     5.73E-4|     1.37E-4|              0|           0|               0|           0|         0|         2|         6|         1|          4|               1|               1|             1|      null|    0|[20393.0,5190.0,0...|[0.99764132328364...|\n",
            "|59.166.0.7|19792|149.171.126.0|    53|  udp|  CON|    0.003362|   146|   178|  31|  29|    0|    0|     dns|173706.13| 211778.7|    2|    2|   0|   0|         0|         0|     73|     89|          0|          0|       0.0|      0.0|1421970775|1421970775|       0.011|0.0060000001|         0.0|         0.0|         0.0|              0|           0|               0|           0|         0|         3|         2|         3|          3|               3|               1|             1|      null|    0|(43,[0,1,2,3,4,5,...|(43,[0,1,2,3,4,5,...|\n",
            "|59.166.0.3|14382|149.171.126.9|  3354|  tcp|  FIN|  0.45305201|   424|  8824|  31|  29|    1|    4|ftp-data| 6551.124| 142835.7|    8|   12| 255| 255|2206905053|3307670308|     53|    735|          0|          0| 3906.7949|3074.6694|1421970775|1421970775|   64.671288|   41.134998|      6.8E-4|5.5900001E-4|     1.21E-4|              0|           0|               0|           0|         0|         4|         6|         7|          4|               1|               1|             2|      null|    0|[14382.0,3354.0,0...|[0.70357855692960...|\n",
            "|59.166.0.9|37074|149.171.126.2|    53|  udp|  CON|    0.001088|   146|   178|  31|  29|    0|    0|     dns|536764.69|654411.75|    2|    2|   0|   0|         0|         0|     73|     89|          0|          0|       0.0|      0.0|1421970775|1421970775|       0.001|0.0089999996|         0.0|         0.0|         0.0|              0|           0|               0|           0|         0|         2|         5|         3|          2|               1|               1|             1|      null|    0|(43,[0,1,2,3,4,5,...|(43,[0,1,2,3,4,5,...|\n",
            "|59.166.0.7|12569|149.171.126.5|    53|  udp|  CON|9.6899999E-4|   146|   178|  31|  29|    0|    0|     dns|602683.19|734778.13|    2|    2|   0|   0|         0|         0|     73|     89|          0|          0|       0.0|      0.0|1421970775|1421970775|0.0099999998|       0.003|         0.0|         0.0|         0.0|              0|           0|               0|           0|         0|         3|         1|         2|          3|               3|               1|             1|      null|    0|(43,[0,1,2,3,4,5,...|(43,[0,1,2,3,4,5,...|\n",
            "|59.166.0.1|12792|149.171.126.7|    53|  udp|  CON|0.0010629999|   146|   178|  31|  29|    0|    0|     dns|549388.56| 669802.5|    2|    2|   0|   0|         0|         0|     73|     89|          0|          0|       0.0|      0.0|1421970780|1421970780|0.0020000001|       0.003|         0.0|         0.0|         0.0|              0|           0|               0|           0|         0|         5|         3|         2|          4|               3|               1|             1|      null|    0|(43,[0,1,2,3,4,5,...|(43,[0,1,2,3,4,5,...|\n",
            "|59.166.0.0|63414|149.171.126.9| 10330|  tcp|  FIN|  0.26501101|  8928|   320|  31|  29|    4|    1|ftp-data|250283.94|8060.0425|   14|    6| 255| 255|2386904726|3699988372|    638|     53|          0|          0| 1725.2916|71.464249|1421970775|1421970776|   20.385462|   52.644802|7.7500002E-4|6.3299999E-4|     1.42E-4|              0|           0|               0|           0|         0|         3|         6|         6|          5|               1|               1|             2|      null|    0|[63414.0,10330.0,...|[3.10226189745054...|\n",
            "|59.166.0.1|33555|149.171.126.3|  6881|  tcp|  FIN|  0.51712799|  1540|  1644|  31|  29|    4|    4|       -|22338.764|  24025.0|   16|   18| 255| 255|1741520309|3943579644|     96|     91|          0|          0| 2036.1301| 51.91766|1421970776|1421970776|   34.433331|   30.388353|6.5399997E-4|5.2200002E-4|     1.32E-4|              0|           0|               0|           0|         0|         4|         6|         5|          7|               4|               1|             4|      null|    0|[33555.0,6881.0,0...|[1.64153653718347...|\n",
            "|59.166.0.8|10867|149.171.126.8|   111|  udp|  CON|0.0053389999|   568|   312|  31|  29|    0|    0|       -|638321.81|350627.47|    4|    4|   0|   0|         0|         0|    142|     78|          0|          0| 1.7430201| 1.757632|1421970776|1421970776|        1.24|    1.252333|         0.0|         0.0|         0.0|              0|           0|               0|           0|         0|        16|         7|         5|          5|               1|               1|             4|      null|    0|(43,[0,1,2,3,4,5,...|(43,[0,1,2,3,4,5,...|\n",
            "|59.166.0.8|12411|149.171.126.8|  1715|  udp|  CON|    0.001739|   512|   304|  31|  29|    0|    0|       -|1766532.5|1048878.6|    4|    4|   0|   0|         0|         0|    128|     76|          0|          0|0.63026798| 0.318434|1421970776|1421970776|  0.44966701|    0.227667|         0.0|         0.0|         0.0|              0|           0|               0|           0|         0|        16|         7|         5|          5|               1|               1|             4|      null|    0|(43,[0,1,2,3,4,5,...|(43,[0,1,2,3,4,5,...|\n",
            "|59.166.0.8|46725|149.171.126.2|    53|  udp|  CON|    0.001018|   146|   178|  31|  29|    0|    0|     dns|573673.88|699410.63|    2|    2|   0|   0|         0|         0|     73|     89|          0|          0|       0.0|      0.0|1421970776|1421970776|       0.011|       0.011|         0.0|         0.0|         0.0|              0|           0|               0|           0|         0|         2|         5|         3|          5|               1|               1|             1|      null|    0|(43,[0,1,2,3,4,5,...|(43,[0,1,2,3,4,5,...|\n",
            "|59.166.0.1|51562|149.171.126.4|    53|  udp|  CON|    0.001044|   146|   178|  31|  29|    0|    0|     dns|559386.94|681992.31|    2|    2|   0|   0|         0|         0|     73|     89|          0|          0|       0.0|      0.0|1421970776|1421970776|       0.011|       0.003|         0.0|         0.0|         0.0|              0|           0|               0|           0|         0|         2|         3|         5|          7|               2|               1|             3|      null|    0|(43,[0,1,2,3,4,5,...|(43,[0,1,2,3,4,5,...|\n",
            "|59.166.0.3|48838|149.171.126.2|    53|  udp|  CON|9.8699995E-4|   146|   178|  31|  29|    0|    0|     dns| 591692.0|721377.94|    2|    2|   0|   0|         0|         0|     73|     89|          0|          0|       0.0|      0.0|1421970776|1421970776|0.0080000004|       0.003|         0.0|         0.0|         0.0|              0|           0|               0|           0|         0|         2|         5|         3|          3|               1|               1|             1|      null|    0|(43,[0,1,2,3,4,5,...|(43,[0,1,2,3,4,5,...|\n",
            "|59.166.0.0|16907|149.171.126.9|    21|  tcp|  FIN|   2.2547121|  2934|  3740|  31|  29|   11|   15|     ftp|10211.503|13025.166|   52|   54| 255| 255| 241515551|2584135680|     56|     69|          0|          0| 3141.3708| 99.93412|1421970773|1421970776|   44.203648|   42.531734|6.6100003E-4|5.2499998E-4|     1.36E-4|              0|           0|               0|           0|         0|         1|         3|         6|          5|               1|               1|             2|      null|    0|[16907.0,21.0,2.2...|[0.82710350869202...|\n",
            "|59.166.0.0| 1915|149.171.126.4| 32945|  tcp|  FIN| 0.051220998|  2854| 29104|  31|  29|    7|   17|       -|436071.16|4450987.0|   46|   48| 255| 255|1921515932|1974066994|     62|    606|          0|          0| 78.226654|76.387978|1421970776|1421970776|   1.1294219|   1.0781699|      8.1E-4|     5.43E-4|     2.67E-4|              0|           0|               0|           0|         0|         7|         2|         5|          5|               1|               1|             2|      null|    0|[1915.0,32945.0,0...|[0.09368328024754...|\n",
            "|59.166.0.4| 1309|149.171.126.8| 52139|  tcp|  FIN| 0.091375001|  4238| 65628|  31|  29|    7|   30|       -|365964.44|5668246.0|   72|   74| 255| 255|1681522413|1731423574|     59|    887|          0|          0|       0.0|77.518913|1421970776|1421970776|    1.268014|     1.24474|6.3899998E-4|     5.05E-4|     1.34E-4|              0|           0|               0|           0|         0|         2|         7|         5|          2|               1|               1|             1|      null|    0|[1309.0,52139.0,0...|[0.06403729182456...|\n",
            "+----------+-----+-------------+------+-----+-----+------------+------+------+----+----+-----+-----+--------+---------+---------+-----+-----+----+----+----------+----------+-------+-------+-----------+-----------+----------+---------+----------+----------+------------+------------+------------+------------+------------+---------------+------------+----------------+------------+----------+----------+----------+----------+-----------+----------------+----------------+--------------+----------+-----+--------------------+--------------------+\n",
            "only showing top 20 rows\n",
            "\n"
          ]
        }
      ],
      "source": [
        "from pyspark.ml.feature import StandardScaler\n",
        "scale=StandardScaler(inputCol='features',outputCol='Standardized')\n",
        "data_scale=scale.fit(assembled_data)\n",
        "data_scale_output=data_scale.transform(assembled_data)\n",
        "data_scale_output.show()"
      ]
    },
    {
      "cell_type": "code",
      "execution_count": null,
      "metadata": {
        "colab": {
          "base_uri": "https://localhost:8080/"
        },
        "id": "0sUP7Q1ja8Al",
        "outputId": "a38bb72c-e26c-4047-a3a8-0f9dc267017b"
      },
      "outputs": [
        {
          "output_type": "stream",
          "name": "stdout",
          "text": [
            "Training Dataset Count: 1776900\n",
            "Test Dataset Count: 762838\n",
            "+-----------+-----+-----------+------+-----+-----+---+------+------+----+----+-----+-----+-------+-----+-----+-----+-----+----+----+-----+-----+-------+-------+-----------+-----------+----+----+----------+----------+---------+-------+------+------+------+---------------+------------+----------------+------------+----------+----------+----------+----------+-----------+----------------+----------------+--------------+----------+-----+--------------------+--------------------+\n",
            "|      srcip|sport|      dstip|dsport|proto|state|dur|sbytes|dbytes|sttl|dttl|sloss|dloss|service|Sload|Dload|Spkts|Dpkts|swin|dwin|stcpb|dtcpb|smeansz|dmeansz|trans_depth|res_bdy_len|Sjit|Djit|     Stime|     Ltime|  Sintpkt|Dintpkt|tcprtt|synack|ackdat|is_sm_ips_ports|ct_state_ttl|ct_flw_http_mthd|is_ftp_login|ct_ftp_cmd|ct_srv_src|ct_srv_dst|ct_dst_ltm|ct_src_ ltm|ct_src_dport_ltm|ct_dst_sport_ltm|ct_dst_src_ltm|attack_cat|Label|            features|        Standardized|\n",
            "+-----------+-----+-----------+------+-----+-----+---+------+------+----+----+-----+-----+-------+-----+-----+-----+-----+----+----+-----+-----+-------+-------+-----------+-----------+----+----+----------+----------+---------+-------+------+------+------+---------------+------------+----------------+------------+----------+----------+----------+----------+-----------+----------------+----------------+--------------+----------+-----+--------------------+--------------------+\n",
            "|10.40.170.2|    0|10.40.170.2|     0|  arp|  INT|0.0|    46|     0|   0|   0|    0|    0|      -|  0.0|  0.0|    1|    0|   0|   0|    0|    0|     46|      0|          0|          0| 0.0| 0.0|1421970316|1421970316| 60000.43|    0.0|   0.0|   0.0|   0.0|              1|           2|               0|           0|         0|         1|         1|         1|          1|               1|               1|             1|      null|    0|(43,[3,11,17,23,2...|(43,[3,11,17,23,2...|\n",
            "|10.40.170.2|    0|10.40.170.2|     0|  arp|  INT|0.0|    46|     0|   0|   0|    0|    0|      -|  0.0|  0.0|    1|    0|   0|   0|    0|    0|     46|      0|          0|          0| 0.0| 0.0|1421970316|1421970316| 60000.43|    0.0|   0.0|   0.0|   0.0|              1|           2|               0|           0|         0|         1|         1|         1|          1|               1|               1|             1|      null|    0|(43,[3,11,17,23,2...|(43,[3,11,17,23,2...|\n",
            "|10.40.170.2|    0|10.40.170.2|     0|  arp|  INT|0.0|    46|     0|   0|   0|    0|    0|      -|  0.0|  0.0|    1|    0|   0|   0|    0|    0|     46|      0|          0|          0| 0.0| 0.0|1421970796|1421970796|      0.0|    0.0|   0.0|   0.0|   0.0|              1|           2|               0|           0|         0|         2|         2|         2|          2|               2|               2|             2|      null|    0|(43,[3,11,17,23,2...|(43,[3,11,17,23,2...|\n",
            "|10.40.170.2|    0|10.40.170.2|     0|  arp|  INT|0.0|    46|     0|   0|   0|    0|    0|      -|  0.0|  0.0|    1|    0|   0|   0|    0|    0|     46|      0|          0|          0| 0.0| 0.0|1421970796|1421970796|      0.0|    0.0|   0.0|   0.0|   0.0|              1|           2|               0|           0|         0|         2|         2|         2|          2|               2|               2|             2|      null|    0|(43,[3,11,17,23,2...|(43,[3,11,17,23,2...|\n",
            "|10.40.170.2|    0|10.40.170.2|     0|  arp|  INT|0.0|    46|     0|   0|   0|    0|    0|      -|  0.0|  0.0|    1|    0|   0|   0|    0|    0|     46|      0|          0|          0| 0.0| 0.0|1421971096|1421971096|60000.719|    0.0|   0.0|   0.0|   0.0|              1|           2|               0|           0|         0|         2|         2|         2|          2|               2|               2|             2|      null|    0|(43,[3,11,17,23,2...|(43,[3,11,17,23,2...|\n",
            "|10.40.170.2|    0|10.40.170.2|     0|  arp|  INT|0.0|    46|     0|   0|   0|    0|    0|      -|  0.0|  0.0|    1|    0|   0|   0|    0|    0|     46|      0|          0|          0| 0.0| 0.0|1421971156|1421971156|60000.621|    0.0|   0.0|   0.0|   0.0|              1|           2|               0|           0|         0|         2|         2|         2|          2|               2|               2|             2|      null|    0|(43,[3,11,17,23,2...|(43,[3,11,17,23,2...|\n",
            "|10.40.170.2|    0|10.40.170.2|     0|  arp|  INT|0.0|    46|     0|   0|   0|    0|    0|      -|  0.0|  0.0|    1|    0|   0|   0|    0|    0|     46|      0|          0|          0| 0.0| 0.0|1421971156|1421971156|60000.621|    0.0|   0.0|   0.0|   0.0|              1|           2|               0|           0|         0|         2|         2|         2|          2|               2|               2|             2|      null|    0|(43,[3,11,17,23,2...|(43,[3,11,17,23,2...|\n",
            "|10.40.170.2|    0|10.40.170.2|     0|  arp|  INT|0.0|    46|     0|   0|   0|    0|    0|      -|  0.0|  0.0|    1|    0|   0|   0|    0|    0|     46|      0|          0|          0| 0.0| 0.0|1421971696|1421971696| 60000.68|    0.0|   0.0|   0.0|   0.0|              1|           2|               0|           0|         0|         2|         2|         2|          2|               2|               2|             2|      null|    0|(43,[3,11,17,23,2...|(43,[3,11,17,23,2...|\n",
            "|10.40.170.2|    0|10.40.170.2|     0|  arp|  INT|0.0|    46|     0|   0|   0|    0|    0|      -|  0.0|  0.0|    1|    0|   0|   0|    0|    0|     46|      0|          0|          0| 0.0| 0.0|1421971696|1421971696| 60000.68|    0.0|   0.0|   0.0|   0.0|              1|           2|               0|           0|         0|         2|         2|         2|          2|               2|               2|             2|      null|    0|(43,[3,11,17,23,2...|(43,[3,11,17,23,2...|\n",
            "|10.40.170.2|    0|10.40.170.2|     0|  arp|  INT|0.0|    46|     0|   0|   0|    0|    0|      -|  0.0|  0.0|    1|    0|   0|   0|    0|    0|     46|      0|          0|          0| 0.0| 0.0|1421971996|1421971996|60000.652|    0.0|   0.0|   0.0|   0.0|              1|           2|               0|           0|         0|         2|         2|         2|          2|               2|               2|             2|      null|    0|(43,[3,11,17,23,2...|(43,[3,11,17,23,2...|\n",
            "+-----------+-----+-----------+------+-----+-----+---+------+------+----+----+-----+-----+-------+-----+-----+-----+-----+----+----+-----+-----+-------+-------+-----------+-----------+----+----+----------+----------+---------+-------+------+------+------+---------------+------------+----------------+------------+----------+----------+----------+----------+-----------+----------------+----------------+--------------+----------+-----+--------------------+--------------------+\n",
            "only showing top 10 rows\n",
            "\n",
            "None\n"
          ]
        }
      ],
      "source": [
        " \n",
        "trainData, testData = data_scale_output.randomSplit([0.7, 0.3],seed=5043)\n",
        "\n",
        "print(\"Training Dataset Count: \" + str(trainData.count()))\n",
        "\n",
        "\n",
        "print(\"Test Dataset Count: \" + str(testData.count()))\n",
        "\n",
        "print(trainData.show(10))"
      ]
    },
    {
      "cell_type": "markdown",
      "metadata": {
        "id": "wHft1Jht1Qxl"
      },
      "source": [
        "\n",
        "# **Task 1-1 - Clustering method [15 marks]**\n",
        "\n",
        "---\n"
      ]
    },
    {
      "cell_type": "code",
      "execution_count": null,
      "metadata": {
        "id": "OcZfiIcq1Qxn"
      },
      "outputs": [],
      "source": [
        "# Machine Learning Technique, configuration, etc.:\n",
        "# Place your notes here. \n",
        "from pyspark.ml.clustering import KMeans\n",
        "from pyspark.ml.evaluation import ClusteringEvaluator\n",
        "silhouette_score=[]\n",
        "evaluator = ClusteringEvaluator(predictionCol='prediction', featuresCol='Standardized', \\\n",
        "                                metricName='silhouette', distanceMeasure='squaredEuclidean')\n",
        "for i in range(2,10):\n",
        "    \n",
        "    KMeans_algo=KMeans(featuresCol='Standardized', k=i)\n",
        "    \n",
        "    KMeans_fit=KMeans_algo.fit(trainData)\n",
        "    \n",
        "    output=KMeans_fit.transform(testData)\n",
        "    \n",
        "    \n",
        "    \n",
        "    score=evaluator.evaluate(output)\n",
        "    \n",
        "    silhouette_score.append(score)\n",
        "    \n",
        "    # print(\"Silhouette Score:\",score)\n",
        "\n"
      ]
    },
    {
      "cell_type": "code",
      "execution_count": null,
      "metadata": {
        "colab": {
          "background_save": true
        },
        "id": "xfxZlsakbUWe"
      },
      "outputs": [],
      "source": [
        "import matplotlib.pyplot as plt\n",
        "\n",
        "%matplotlib inline\n",
        "\n",
        "# fig, ax = plt.subplots(1,1, figsize =(8,6))\n",
        "# ax.plot(range(2,10),silhouette_score)\n",
        "\n",
        "plt.scatter(range(2,10),silhouette_score)\n",
        "plt.xlabel(\"K_Means\")\n",
        "plt.ylabel(\"Prediction\")\n",
        "plt.show()"
      ]
    },
    {
      "cell_type": "markdown",
      "metadata": {
        "id": "IRGHM3rOsKvU"
      },
      "source": [
        "\n",
        "# **Task 1-2 - Multi Classifier [30 marks]**\n",
        "\n",
        "---\n"
      ]
    },
    {
      "cell_type": "code",
      "execution_count": null,
      "metadata": {
        "colab": {
          "background_save": true
        },
        "id": "6oAJuyTBsRO-"
      },
      "outputs": [],
      "source": [
        "# Machine Learning Technique, configuration, etc.:\n",
        "# Place your notes here. \n",
        "from pyspark.ml.feature import StringIndexer\n",
        "l_indexer = StringIndexer(inputCol=\"Label\", outputCol=\"attack_cate\")\n",
        "dataset = l_indexer.fit(data_scale_output).transform(data_scale_output)\n"
      ]
    },
    {
      "cell_type": "code",
      "execution_count": null,
      "metadata": {
        "colab": {
          "background_save": true
        },
        "id": "ekIx8dLGbhve"
      },
      "outputs": [],
      "source": [
        "dataset.show()"
      ]
    },
    {
      "cell_type": "code",
      "execution_count": null,
      "metadata": {
        "colab": {
          "background_save": true
        },
        "id": "KCBEE5ypb90d"
      },
      "outputs": [],
      "source": [
        "(trainingData, testingData) = dataset.randomSplit([0.7, 0.3])"
      ]
    },
    {
      "cell_type": "code",
      "execution_count": null,
      "metadata": {
        "colab": {
          "background_save": true
        },
        "id": "CuOgUhNgbluO"
      },
      "outputs": [],
      "source": [
        "from pyspark.ml.classification import DecisionTreeClassifier\n",
        "from pyspark.ml.evaluation import MulticlassClassificationEvaluator\n",
        "dt = DecisionTreeClassifier(labelCol=\"attack_cate\", featuresCol=\"features\",impurity='entropy', maxDepth=4,seed=1234)\n",
        "model = dt.fit(trainingData)\n",
        "predictions = model.transform(testingData)\n"
      ]
    },
    {
      "cell_type": "markdown",
      "metadata": {
        "id": "7B_jAqyMsSsl"
      },
      "source": [
        "\n",
        "# **Task 1-3 - Performance Measurements [15 marks]**\n",
        "\n",
        "---\n"
      ]
    },
    {
      "cell_type": "code",
      "execution_count": null,
      "metadata": {
        "colab": {
          "background_save": true
        },
        "id": "tV__ckDIsTEF"
      },
      "outputs": [],
      "source": [
        "evaluator = MulticlassClassificationEvaluator(\\\n",
        "labelCol=\"attack_cate\", predictionCol=\"prediction\",\\\n",
        "metricName=\"accuracy\")\n",
        "accuracy = evaluator.evaluate(predictions)\n",
        "print(\"Test accuracy =  \" , accuracy)\n",
        "print(model.toDebugString)"
      ]
    },
    {
      "cell_type": "code",
      "execution_count": null,
      "metadata": {
        "colab": {
          "background_save": true
        },
        "id": "U5LsjMgxxl-g"
      },
      "outputs": [],
      "source": [
        "spark.stop()"
      ]
    },
    {
      "cell_type": "markdown",
      "metadata": {
        "id": "VOZQqz_sD5XR"
      },
      "source": [
        "\n",
        "# **Task 2: Big Data Analytics using RDD Spark [30 marks]**\n",
        "\n",
        "---\n"
      ]
    },
    {
      "cell_type": "code",
      "execution_count": null,
      "metadata": {
        "colab": {
          "background_save": true
        },
        "id": "m0JmwVhkD4uX"
      },
      "outputs": [],
      "source": [
        "from pyspark import SparkContext, SparkConf"
      ]
    },
    {
      "cell_type": "code",
      "execution_count": null,
      "metadata": {
        "colab": {
          "background_save": true
        },
        "id": "_KrWiINQxynJ"
      },
      "outputs": [],
      "source": [
        "conf=SparkConf().setAppName(\"Big Data Analytics using RDD Spark\").setMaster(\"local[*]\")\n",
        "sc=SparkContext(conf=conf)\n"
      ]
    },
    {
      "cell_type": "code",
      "execution_count": null,
      "metadata": {
        "colab": {
          "background_save": true
        },
        "id": "rJwHNSocx7rF"
      },
      "outputs": [],
      "source": [
        "path='drive/My Drive/Colab Notebooks/UNSW-NB15.csv'\n",
        "rdd=sc.textFile(path).cache()"
      ]
    },
    {
      "cell_type": "code",
      "execution_count": null,
      "metadata": {
        "colab": {
          "background_save": true
        },
        "id": "SM6siAG-x7tK"
      },
      "outputs": [],
      "source": [
        "rdd.take(5)"
      ]
    },
    {
      "cell_type": "code",
      "execution_count": null,
      "metadata": {
        "colab": {
          "background_save": true
        },
        "id": "jr1IPAhnyN3v"
      },
      "outputs": [],
      "source": [
        "rdd.count()\n"
      ]
    },
    {
      "cell_type": "code",
      "execution_count": null,
      "metadata": {
        "colab": {
          "background_save": true
        },
        "id": "KbAOgt7LyQDA"
      },
      "outputs": [],
      "source": [
        "Normal_rdd = rdd.filter(lambda line: 'FIN' in line)\n",
        "Normal_rdd.count()"
      ]
    },
    {
      "cell_type": "code",
      "execution_count": null,
      "metadata": {
        "colab": {
          "background_save": true
        },
        "id": "JR0FAT0QyTVQ"
      },
      "outputs": [],
      "source": [
        "Split_rdd = rdd.map(lambda line: line.split(\",\"))\n",
        "Label_rdd = Split_rdd.map(lambda item: item[-1]).distinct() # Get last index for \"labels\"\n",
        "Label_rdd.collect()"
      ]
    },
    {
      "cell_type": "code",
      "execution_count": null,
      "metadata": {
        "colab": {
          "background_save": true
        },
        "id": "344xKYusyVmN"
      },
      "outputs": [],
      "source": [
        "Protocol_rdd = Split_rdd.map(lambda item: item[1]).distinct() # Get index 1\n",
        "Protocol_rdd.collect()"
      ]
    },
    {
      "cell_type": "code",
      "execution_count": null,
      "metadata": {
        "colab": {
          "background_save": true
        },
        "id": "SswR3X2RyX8Z"
      },
      "outputs": [],
      "source": [
        "Labels_Count = []\n",
        "def LabelCount_func(items):\n",
        "  for i in items:\n",
        "    Labels_Count.append(rdd.filter(lambda line: i in line).count())"
      ]
    },
    {
      "cell_type": "code",
      "execution_count": null,
      "metadata": {
        "colab": {
          "background_save": true
        },
        "id": "aQnmb6BryX9D"
      },
      "outputs": [],
      "source": [
        "import time\n",
        "start_time = time.time()\n",
        "\n",
        "Labels_list = Label_rdd.collect()\n",
        "LabelCount_func(Labels_list)\n",
        "\n",
        "# Print out the time taken for executing the function\n",
        "print(\"--- %s sec ---\" % (time.time() - start_time))"
      ]
    },
    {
      "cell_type": "code",
      "execution_count": null,
      "metadata": {
        "colab": {
          "background_save": true
        },
        "id": "QMPgCLVDygrZ"
      },
      "outputs": [],
      "source": [
        "import pandas as pd\n",
        "DF_labels = pd.DataFrame({'Label': Labels_list,\n",
        "                          'Count': Labels_Count})\n",
        "DF_labels"
      ]
    },
    {
      "cell_type": "code",
      "execution_count": null,
      "metadata": {
        "colab": {
          "background_save": true
        },
        "id": "uLsWfRIixgDg"
      },
      "outputs": [],
      "source": [
        "# Question 1: : ReduceByKey or Reduce\n",
        "\n",
        "# add your solution here:\n",
        "# Alternative solution: Create (Key, value) for counting Labels\n",
        "start_time = time.time()\n",
        "\n",
        "Label_rdd_KV=Split_rdd.map(lambda x: (x[-1],1))\n",
        "Label_rdd_Reduce = Label_rdd_KV.reduceByKey(lambda a,b: a+b)\n",
        "print(\"ReduceByKey:\",Label_rdd_Reduce)\n",
        "\n",
        "# Print out the time taken for executing the Key-Value operation\n",
        "print(\"--- %s sec ---\" % (time.time() - start_time))\n"
      ]
    },
    {
      "cell_type": "code",
      "execution_count": null,
      "metadata": {
        "colab": {
          "background_save": true
        },
        "id": "m_04SnSvyyAA"
      },
      "outputs": [],
      "source": [
        "Keys = Label_rdd_Reduce.keys().collect()\n",
        "Values = Label_rdd_Reduce.values().collect()\n",
        "\n",
        "DF_labels_KV = pd.DataFrame({'Label': Keys,\n",
        "                          'Count': Values})\n",
        "DF_labels_KV"
      ]
    },
    {
      "cell_type": "code",
      "execution_count": null,
      "metadata": {
        "colab": {
          "background_save": true
        },
        "id": "leRzUNFOEEFI"
      },
      "outputs": [],
      "source": [
        "# Question 2:  GroupByKey or CountByKey\n",
        "\n",
        "# add your solution here:\n",
        "\n",
        "group = rdd.groupByKey()\n",
        "print('Output: ',group.getNumPartitions())\n"
      ]
    },
    {
      "cell_type": "code",
      "execution_count": null,
      "metadata": {
        "colab": {
          "background_save": true
        },
        "id": "9Ol-GBfYEF30"
      },
      "outputs": [],
      "source": [
        "# Question 3:  Join, Union, or Intersect\n",
        "\n",
        "# add your solution here:\n",
        "rdd.join(Protocol_rdd)\n"
      ]
    },
    {
      "cell_type": "code",
      "execution_count": null,
      "metadata": {
        "colab": {
          "background_save": true
        },
        "id": "UupTXDVRzKjB"
      },
      "outputs": [],
      "source": [
        "rdd.union(Protocol_rdd)"
      ]
    },
    {
      "cell_type": "code",
      "execution_count": null,
      "metadata": {
        "colab": {
          "background_save": true
        },
        "id": "eUOYoEUJEG2Q"
      },
      "outputs": [],
      "source": [
        "# Question 4: : Distinct or SortByKey\n",
        "\n",
        "# add your solution here:\n",
        "\n",
        "rdd.distinct()"
      ]
    },
    {
      "cell_type": "markdown",
      "metadata": {
        "id": "mIM6uLApSxi2"
      },
      "source": [
        "# **Convert ipynb to HTML for Turnitin submission**\n",
        "\n",
        "---\n",
        "\n"
      ]
    },
    {
      "cell_type": "code",
      "execution_count": null,
      "metadata": {
        "colab": {
          "background_save": true
        },
        "id": "ZrQu11N_DCfZ"
      },
      "outputs": [],
      "source": [
        "# install nbconvert (if facing with conversion error)\n",
        "!pip3 install nbconvert "
      ]
    },
    {
      "cell_type": "code",
      "execution_count": null,
      "metadata": {
        "colab": {
          "background_save": true
        },
        "id": "ReZWnCYdDH66"
      },
      "outputs": [],
      "source": [
        "# convert ipynb to html\n",
        "# firstly, download your solution file from \"File-->Download-->Download .ipynb\",\n",
        "# then drag-and-drop it into \"Files\" section on the left hand side.\n",
        "# thirdly, execute the following syntax to convert your ipynb file to HTML format. MAKE SURE to use the correct file name\n",
        "!jupyter nbconvert --to html <your-file-name.ipynb>\n",
        "\n",
        "# at the end, download the HTML file from \"Files\" section and submit it as your group work contribition to the Moodle site"
      ]
    }
  ],
  "metadata": {
    "colab": {
      "collapsed_sections": [
        "Lx9-Fre4FMda"
      ],
      "name": "Your_Group_ID_07_CN7030_CRWK.ipynb",
      "provenance": [],
      "include_colab_link": true
    },
    "kernelspec": {
      "display_name": "Python 3",
      "name": "python3"
    }
  },
  "nbformat": 4,
  "nbformat_minor": 0
}